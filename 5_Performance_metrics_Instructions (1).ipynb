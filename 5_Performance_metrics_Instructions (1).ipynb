{
 "cells": [
  {
   "cell_type": "markdown",
   "metadata": {
    "colab_type": "text",
    "id": "s0Ej_bXyQvnV"
   },
   "source": [
    "# Compute performance metrics for the given Y and Y_score without sklearn"
   ]
  },
  {
   "cell_type": "code",
   "execution_count": 53,
   "metadata": {
    "colab": {},
    "colab_type": "code",
    "id": "4CHb6NE7Qvnc"
   },
   "outputs": [],
   "source": [
    "import numpy as np\n",
    "import pandas as pd\n",
    "# other than these two you should not import any other packages"
   ]
  },
  {
   "cell_type": "markdown",
   "metadata": {
    "colab_type": "text",
    "id": "KbsWXuDaQvnq"
   },
   "source": [
    "<pre>\n",
    "<font color='red'><b>A.</b></font> Compute performance metrics for the given data <strong>5_a.csv</strong>\n",
    "   <b>Note 1:</b> in this data you can see number of positive points >> number of negatives points\n",
    "   <b>Note 2:</b> use pandas or numpy to read the data from <b>5_a.csv</b>\n",
    "   <b>Note 3:</b> you need to derive the class labels from given score</pre> $y^{pred}= \\text{[0 if y_score < 0.5 else 1]}$\n",
    "\n",
    "<pre>\n",
    "<ol>\n",
    "<li> Compute Confusion Matrix </li>\n",
    "<li> Compute F1 Score </li>\n",
    "<li> Compute AUC Score, you need to compute different thresholds and for each threshold compute tpr,fpr and then use               numpy.trapz(tpr_array, fpr_array) <a href='https://stackoverflow.com/q/53603376/4084039'>https://stackoverflow.com/q/53603376/4084039</a>, <a href='https://stackoverflow.com/a/39678975/4084039'>https://stackoverflow.com/a/39678975/4084039</a> Note: it should be numpy.trapz(tpr_array, fpr_array) not numpy.trapz(fpr_array, tpr_array)</li>\n",
    "<li> Compute Accuracy Score </li>\n",
    "</ol>\n",
    "</pre>"
   ]
  },
  {
   "cell_type": "code",
   "execution_count": 54,
   "metadata": {},
   "outputs": [],
   "source": [
    "# calculate tp,tn,fn,fp\n",
    "\n",
    "def calculate_tp_tn_fn_fp(zipped_var) :\n",
    "    \n",
    "    tp=0\n",
    "    tn=0\n",
    "    fp=0\n",
    "    fn=0\n",
    "    \n",
    "    for i in zipped_var :\n",
    "        if i[0]==1 and i[1]==1 :\n",
    "            tp+=1\n",
    "        elif i[0]==0 and i[1]==0 :\n",
    "            tn+=1\n",
    "        elif i[0]==1 and i[1]==0 :\n",
    "            fn+=1\n",
    "        elif i[0]==0 and i[1]==1 :\n",
    "            fp+=1\n",
    "    \n",
    "    return tn,fp,fn,tp \n",
    "    "
   ]
  },
  {
   "cell_type": "code",
   "execution_count": 55,
   "metadata": {},
   "outputs": [],
   "source": [
    "def calculate_precision(tn,fp,fn,tp):\n",
    "    precision_x = 0\n",
    "    precision_x = tp/(tp+fp)\n",
    "    print('Precision : ',precision_x)\n",
    "    return precision_x"
   ]
  },
  {
   "cell_type": "code",
   "execution_count": 56,
   "metadata": {},
   "outputs": [],
   "source": [
    "def calculate_recall(tn,fp,fn,tp):\n",
    "    recall_x = 0\n",
    "    recall_x = tp/(tp+fn)\n",
    "    print('Recall : ',recall_x)\n",
    "    return recall_x"
   ]
  },
  {
   "cell_type": "code",
   "execution_count": 57,
   "metadata": {},
   "outputs": [],
   "source": [
    "def calculate_accuracy_score(tn,fp,fn,tp):\n",
    "    accuracy_score = 0\n",
    "    accuracy_score = (tp+tn)/(tn+tp+fn+fp)\n",
    "    print('Accuracy Score : ',accuracy_score,'\\n')\n",
    "    return accuracy_score"
   ]
  },
  {
   "cell_type": "code",
   "execution_count": 58,
   "metadata": {},
   "outputs": [],
   "source": [
    "def calculate_f1score(tn,fp,fn,tp):\n",
    "    precision_x = 0\n",
    "    precision_x=calculate_precision(tn,fp,fn,tp)\n",
    "    print('*'*100)\n",
    "\n",
    "    recall_x = 0\n",
    "    recall_x = calculate_recall(tn,fp,fn,tp)\n",
    "    print('*'*100)\n",
    "    f1_score = 0\n",
    "    f1_score = (2*precision_x*recall_x)/(precision_x+recall_x)\n",
    "    print('F1 Score : ',f1_score,'\\n')\n",
    "    return f1_score"
   ]
  },
  {
   "cell_type": "code",
   "execution_count": 59,
   "metadata": {},
   "outputs": [],
   "source": [
    "def cal_y_hat(y_prob,a):\n",
    "    y_hat = []\n",
    "\n",
    "    for i in y_prob:\n",
    "        if i>a :\n",
    "            y_hat.append(1)  #we cant use extend to add int to list ..it gives error , in that case you need to add string of int\n",
    "        else :\n",
    "            y_hat.append(0)\n",
    "    \n",
    "    return y_hat\n",
    "    "
   ]
  },
  {
   "cell_type": "code",
   "execution_count": 66,
   "metadata": {},
   "outputs": [],
   "source": [
    "from tqdm import tqdm\n",
    "\n",
    "def calculate_auc(data):\n",
    "    \n",
    "    \n",
    "    auc_dict = {}\n",
    "    y= data['y']\n",
    "    y_prob = data['proba']\n",
    "    y_prob = y_prob.sort_values()\n",
    "    #uniq = set(y_prob)\n",
    "    #uniq = len(uniq)\n",
    "    #print('Y_prob len : ',len(y_prob))\n",
    "    \n",
    "    data_entries = data.shape[0]\n",
    "    unique_thresholds = data.proba.unique()\n",
    "    #print('unique_thresholds : ',len(unique_thresholds))\n",
    "    \n",
    "    #print('uniq : ',uniq)\n",
    "    #threshold_count  = unique_thresholds.count\n",
    "    tpr_list = []\n",
    "    fpr_list = []\n",
    "    \n",
    "    for i in unique_thresholds:\n",
    "\n",
    "        y_hat = cal_y_hat(y_prob,i)\n",
    "        \n",
    "        temp = zip(y,y_hat)\n",
    "        \n",
    "        tn,fp,fn,tp = calculate_tp_tn_fn_fp(temp)\n",
    "        \n",
    "        tpr = tp/(tp+fn)\n",
    "        fpr = fp/(tn+fp)\n",
    "        \n",
    "        tpr_list.append(tpr)\n",
    "        fpr_list.append(fpr)\n",
    "      \n",
    "    return tpr_list,fpr_list\n"
   ]
  },
  {
   "cell_type": "code",
   "execution_count": 67,
   "metadata": {},
   "outputs": [],
   "source": [
    "import matplotlib.pyplot as plt\n",
    "\n",
    "def roc_plot(tpr_list,fpr_list):\n",
    "    tpr_array = np.array(tpr_list)\n",
    "    fpr_array = np.array(fpr_list)\n",
    "\n",
    "    plt.plot(fpr_array, tpr_array)\n",
    "    plt.xlabel(\"FPR(false positive rate)\")\n",
    "    plt.ylabel(\"TPR(true positive rate)\")\n",
    "    plt.title(\"ROC Curve\")\n",
    "    plt.grid() \n",
    "    plt.show()\n",
    "\n",
    "    auc = np.trapz(tpr_array, fpr_array)\n",
    "    print('AUC : ',auc)"
   ]
  },
  {
   "cell_type": "code",
   "execution_count": 68,
   "metadata": {
    "colab": {},
    "colab_type": "code",
    "id": "WaFLW7oBQvnt"
   },
   "outputs": [
    {
     "name": "stdout",
     "output_type": "stream",
     "text": [
      "Confusion Matrix : \n"
     ]
    },
    {
     "data": {
      "image/png": "[encoded data removed]",
      "text/plain": [
       "<Figure size 432x288 with 2 Axes>"
      ]
     },
     "metadata": {},
     "output_type": "display_data"
    },
    {
     "name": "stdout",
     "output_type": "stream",
     "text": [
      "****************************************************************************************************\n",
      "Precision :  0.9900990099009901\n",
      "****************************************************************************************************\n",
      "Recall :  1.0\n",
      "****************************************************************************************************\n",
      "F1 Score :  0.9950248756218906 \n",
      "\n",
      "****************************************************************************************************\n",
      "Accuracy Score :  0.9900990099009901 \n",
      "\n",
      "****************************************************************************************************\n"
     ]
    },
    {
     "name": "stderr",
     "output_type": "stream",
     "text": [
      "\n",
      "\n",
      " 16%|████████████▎                                                               | 1633/10100 [00:34<01:13, 114.53it/s]"
     ]
    },
    {
     "data": {
      "image/png": "[encoded data removed]",
      "text/plain": [
       "<Figure size 432x288 with 1 Axes>"
      ]
     },
     "metadata": {},
     "output_type": "display_data"
    },
    {
     "name": "stdout",
     "output_type": "stream",
     "text": [
      "AUC :  0.5082735000000053\n"
     ]
    }
   ],
   "source": [
    "# write your code here\n",
    "import matplotlib.pyplot as plt\n",
    "import seaborn as sns\n",
    "\n",
    "data = pd.read_csv('5_a.csv')\n",
    "#print(data.shape)\n",
    "#print(data.head(10))\n",
    "\n",
    "y = data['y']\n",
    "y_prob =data['proba']\n",
    "y_hat = []\n",
    "    \n",
    "y_hat= cal_y_hat(y_prob,0.5)\n",
    "\n",
    "temp = zip(y,y_hat)\n",
    "\n",
    "tn,fp,fn,tp = calculate_tp_tn_fn_fp(temp)\n",
    "\n",
    "print(\"Confusion Matrix : \")\n",
    "conf_matr = [[tn,fp],[fn,tp]]\n",
    "#Taken form : https://stackoverflow.com/questions/35572000/how-can-i-plot-a-confusion-matrix\n",
    "df_conf_mat = pd.DataFrame(conf_matr, index=[\"Actual : 0\", \"Actual : 1\"], columns=[\"Predicted : 0\", \"Predicted : 1\"])\n",
    "sns.heatmap(df_conf_mat, annot=True,annot_kws={\"size\": 16})# font size\n",
    "plt.show()\n",
    "print('*'*100)\n",
    "\n",
    "\n",
    "f1_score = calculate_f1score(tn,fp,fn,tp)\n",
    "print('*'*100)\n",
    "\n",
    "\n",
    "calculate_accuracy_score(tn,fp,fn,tp)\n",
    "print('*'*100)\n",
    "\n",
    "    \n",
    "tpr_list,fpr_list = calculate_auc(data)\n",
    "\n",
    "roc_plot(tpr_list,fpr_list)"
   ]
  },
  {
   "cell_type": "code",
   "execution_count": null,
   "metadata": {},
   "outputs": [],
   "source": []
  },
  {
   "cell_type": "code",
   "execution_count": null,
   "metadata": {},
   "outputs": [],
   "source": []
  },
  {
   "cell_type": "code",
   "execution_count": null,
   "metadata": {},
   "outputs": [],
   "source": []
  },
  {
   "cell_type": "code",
   "execution_count": null,
   "metadata": {},
   "outputs": [],
   "source": []
  },
  {
   "cell_type": "code",
   "execution_count": null,
   "metadata": {},
   "outputs": [],
   "source": []
  },
  {
   "cell_type": "markdown",
   "metadata": {
    "colab_type": "text",
    "id": "V5KZem1BQvn2"
   },
   "source": [
    "<pre>\n",
    "<font color='red'><b>B.</b></font> Compute performance metrics for the given data <strong>5_b.csv</strong>\n",
    "   <b>Note 1:</b> in this data you can see number of positive points << number of negatives points\n",
    "   <b>Note 2:</b> use pandas or numpy to read the data from <b>5_b.csv</b>\n",
    "   <b>Note 3:</b> you need to derive the class labels from given score</pre> $y^{pred}= \\text{[0 if y_score < 0.5 else 1]}$\n",
    "\n",
    "<pre>\n",
    "<ol>\n",
    "<li> Compute Confusion Matrix </li>\n",
    "<li> Compute F1 Score </li>\n",
    "<li> Compute AUC Score, you need to compute different thresholds and for each threshold compute tpr,fpr and then use               numpy.trapz(tpr_array, fpr_array) <a href='https://stackoverflow.com/q/53603376/4084039'>https://stackoverflow.com/q/53603376/4084039</a>, <a href='https://stackoverflow.com/a/39678975/4084039'>https://stackoverflow.com/a/39678975/4084039</a></li>\n",
    "<li> Compute Accuracy Score </li>\n",
    "</ol>\n",
    "</pre>"
   ]
  },
  {
   "cell_type": "code",
   "execution_count": 0,
   "metadata": {
    "colab": {},
    "colab_type": "code",
    "id": "U2sKlq0YQvn5"
   },
   "outputs": [],
   "source": [
    "# write your code\n",
    "data = pd.read_csv('5_b.csv')\n",
    "#print(data.shape)\n",
    "#print(data.head(10))\n",
    "\n",
    "y = data['y']\n",
    "y_prob =data['proba']\n",
    "y_hat = []\n",
    "   \n",
    "y_hat= cal_y_hat(y_prob,0.5)\n",
    "\n",
    "temp = zip(y,y_hat)\n",
    "\n",
    "tn,fp,fn,tp = calculate_tp_tn_fn_fp(temp)\n",
    "\n",
    "print(\"Confusion Matrix : \")\n",
    "conf_matr = [[tn,fp],[fn,tp]]\n",
    "#Taken form : https://stackoverflow.com/questions/35572000/how-can-i-plot-a-confusion-matrix\n",
    "df_conf_mat = pd.DataFrame(conf_matr, index=[\"Actual : 0\", \"Actual : 1\"], columns=[\"Predicted : 0\", \"Predicted : 1\"])\n",
    "sns.heatmap(df_conf_mat, annot=True,annot_kws={\"size\": 16})# font size\n",
    "plt.show()\n",
    "print('*'*100)\n",
    "\n",
    "f1_score = calculate_f1score(tn,fp,fn,tp)\n",
    "print('*'*100)\n",
    "\n",
    "calculate_accuracy_score(tn,fp,fn,tp)\n",
    "print('*'*100)\n",
    "\n",
    "tpr_list,fpr_list = calculate_auc(data)\n",
    "roc_plot(tpr_list,fpr_list)"
   ]
  },
  {
   "cell_type": "markdown",
   "metadata": {
    "colab_type": "text",
    "id": "GiPGonTzQvoB"
   },
   "source": [
    "<font color='red'><b>C.</b></font> Compute the best threshold (similarly to ROC curve computation) of probability which gives lowest values of metric <b>A</b> for the given data <strong>5_c.csv</strong>\n",
    "<br>\n",
    "\n",
    "you will be predicting label of a data points like this: $y^{pred}= \\text{[0 if y_score < threshold  else 1]}$\n",
    "\n",
    "$ A = 500 \\times \\text{number of false negative} + 100 \\times \\text{numebr of false positive}$\n",
    "\n",
    "<pre>\n",
    "   <b>Note 1:</b> in this data you can see number of negative points > number of positive points\n",
    "   <b>Note 2:</b> use pandas or numpy to read the data from <b>5_c.csv</b>\n",
    "</pre>"
   ]
  },
  {
   "cell_type": "code",
   "execution_count": 11,
   "metadata": {
    "colab": {},
    "colab_type": "code",
    "id": "x5HIJzq1QvoE"
   },
   "outputs": [
    {
     "data": {
      "text/html": [
       "<div>\n",
       "<style scoped>\n",
       "    .dataframe tbody tr th:only-of-type {\n",
       "        vertical-align: middle;\n",
       "    }\n",
       "\n",
       "    .dataframe tbody tr th {\n",
       "        vertical-align: top;\n",
       "    }\n",
       "\n",
       "    .dataframe thead th {\n",
       "        text-align: right;\n",
       "    }\n",
       "</style>\n",
       "<table border=\"1\" class=\"dataframe\">\n",
       "  <thead>\n",
       "    <tr style=\"text-align: right;\">\n",
       "      <th></th>\n",
       "      <th>y</th>\n",
       "      <th>prob</th>\n",
       "    </tr>\n",
       "  </thead>\n",
       "  <tbody>\n",
       "    <tr>\n",
       "      <th>0</th>\n",
       "      <td>0</td>\n",
       "      <td>0.458521</td>\n",
       "    </tr>\n",
       "    <tr>\n",
       "      <th>1</th>\n",
       "      <td>0</td>\n",
       "      <td>0.505037</td>\n",
       "    </tr>\n",
       "    <tr>\n",
       "      <th>2</th>\n",
       "      <td>0</td>\n",
       "      <td>0.418652</td>\n",
       "    </tr>\n",
       "    <tr>\n",
       "      <th>3</th>\n",
       "      <td>0</td>\n",
       "      <td>0.412057</td>\n",
       "    </tr>\n",
       "    <tr>\n",
       "      <th>4</th>\n",
       "      <td>0</td>\n",
       "      <td>0.375579</td>\n",
       "    </tr>\n",
       "    <tr>\n",
       "      <th>5</th>\n",
       "      <td>0</td>\n",
       "      <td>0.595387</td>\n",
       "    </tr>\n",
       "    <tr>\n",
       "      <th>6</th>\n",
       "      <td>0</td>\n",
       "      <td>0.370288</td>\n",
       "    </tr>\n",
       "    <tr>\n",
       "      <th>7</th>\n",
       "      <td>0</td>\n",
       "      <td>0.299273</td>\n",
       "    </tr>\n",
       "    <tr>\n",
       "      <th>8</th>\n",
       "      <td>0</td>\n",
       "      <td>0.297000</td>\n",
       "    </tr>\n",
       "    <tr>\n",
       "      <th>9</th>\n",
       "      <td>0</td>\n",
       "      <td>0.266479</td>\n",
       "    </tr>\n",
       "  </tbody>\n",
       "</table>\n",
       "</div>"
      ],
      "text/plain": [
       "   y      prob\n",
       "0  0  0.458521\n",
       "1  0  0.505037\n",
       "2  0  0.418652\n",
       "3  0  0.412057\n",
       "4  0  0.375579\n",
       "5  0  0.595387\n",
       "6  0  0.370288\n",
       "7  0  0.299273\n",
       "8  0  0.297000\n",
       "9  0  0.266479"
      ]
     },
     "execution_count": 11,
     "metadata": {},
     "output_type": "execute_result"
    }
   ],
   "source": [
    "# write your code\n",
    "\n",
    "data = pd.read_csv('5_c.csv')\n",
    "data.head(10)\n"
   ]
  },
  {
   "cell_type": "code",
   "execution_count": 25,
   "metadata": {},
   "outputs": [
    {
     "name": "stdout",
     "output_type": "stream",
     "text": [
      "Best Threshold :  0.22987164436159915\n"
     ]
    }
   ],
   "source": [
    "y = data['y']\n",
    "prob = data['prob']\n",
    "unique_prob = sorted(list(data.prob.unique()))\n",
    "A_dict = {}\n",
    "\n",
    "for i in unique_prob:\n",
    "    \n",
    "    y_hat = cal_y_hat(prob,i)\n",
    "    \n",
    "    temp  = zip(y,y_hat)\n",
    "    \n",
    "    tn,fp,fn,tp = calculate_tp_tn_fn_fp(temp)\n",
    "    \n",
    "    A = (500*fn)+(100*fp)\n",
    "    \n",
    "    A_dict[A]=i\n",
    "\n",
    "\n",
    "dict_keys  = sorted(A_dict.keys())\n",
    "\n",
    "print('Best Threshold : ',A_dict[dict_keys[0]])\n"
   ]
  },
  {
   "cell_type": "markdown",
   "metadata": {
    "colab_type": "text",
    "id": "sD4CcgjXQvoL"
   },
   "source": [
    "<pre>\n",
    "<font color='red'><b>D.</b></font> Compute performance metrics(for regression) for the given data <strong>5_d.csv</strong>\n",
    "    <b>Note 2:</b> use pandas or numpy to read the data from <b>5_d.csv</b>\n",
    "    <b>Note 1:</b> <b>5_d.csv</b> will having two columns Y and predicted_Y both are real valued features\n",
    "<ol>\n",
    "<li> Compute Mean Square Error </li>\n",
    "<li> Compute MAPE: https://www.youtube.com/watch?v=ly6ztgIkUxk</li>\n",
    "<li> Compute R^2 error: https://en.wikipedia.org/wiki/Coefficient_of_determination#Definitions </li>\n",
    "</ol>\n",
    "</pre>"
   ]
  },
  {
   "cell_type": "code",
   "execution_count": 26,
   "metadata": {},
   "outputs": [
    {
     "data": {
      "text/html": [
       "<div>\n",
       "<style scoped>\n",
       "    .dataframe tbody tr th:only-of-type {\n",
       "        vertical-align: middle;\n",
       "    }\n",
       "\n",
       "    .dataframe tbody tr th {\n",
       "        vertical-align: top;\n",
       "    }\n",
       "\n",
       "    .dataframe thead th {\n",
       "        text-align: right;\n",
       "    }\n",
       "</style>\n",
       "<table border=\"1\" class=\"dataframe\">\n",
       "  <thead>\n",
       "    <tr style=\"text-align: right;\">\n",
       "      <th></th>\n",
       "      <th>y</th>\n",
       "      <th>pred</th>\n",
       "    </tr>\n",
       "  </thead>\n",
       "  <tbody>\n",
       "    <tr>\n",
       "      <th>0</th>\n",
       "      <td>101.0</td>\n",
       "      <td>100.0</td>\n",
       "    </tr>\n",
       "    <tr>\n",
       "      <th>1</th>\n",
       "      <td>120.0</td>\n",
       "      <td>100.0</td>\n",
       "    </tr>\n",
       "    <tr>\n",
       "      <th>2</th>\n",
       "      <td>131.0</td>\n",
       "      <td>113.0</td>\n",
       "    </tr>\n",
       "    <tr>\n",
       "      <th>3</th>\n",
       "      <td>164.0</td>\n",
       "      <td>125.0</td>\n",
       "    </tr>\n",
       "    <tr>\n",
       "      <th>4</th>\n",
       "      <td>154.0</td>\n",
       "      <td>152.0</td>\n",
       "    </tr>\n",
       "    <tr>\n",
       "      <th>5</th>\n",
       "      <td>133.0</td>\n",
       "      <td>153.0</td>\n",
       "    </tr>\n",
       "    <tr>\n",
       "      <th>6</th>\n",
       "      <td>148.0</td>\n",
       "      <td>139.0</td>\n",
       "    </tr>\n",
       "    <tr>\n",
       "      <th>7</th>\n",
       "      <td>172.0</td>\n",
       "      <td>145.0</td>\n",
       "    </tr>\n",
       "    <tr>\n",
       "      <th>8</th>\n",
       "      <td>153.0</td>\n",
       "      <td>162.0</td>\n",
       "    </tr>\n",
       "    <tr>\n",
       "      <th>9</th>\n",
       "      <td>162.0</td>\n",
       "      <td>154.0</td>\n",
       "    </tr>\n",
       "  </tbody>\n",
       "</table>\n",
       "</div>"
      ],
      "text/plain": [
       "       y   pred\n",
       "0  101.0  100.0\n",
       "1  120.0  100.0\n",
       "2  131.0  113.0\n",
       "3  164.0  125.0\n",
       "4  154.0  152.0\n",
       "5  133.0  153.0\n",
       "6  148.0  139.0\n",
       "7  172.0  145.0\n",
       "8  153.0  162.0\n",
       "9  162.0  154.0"
      ]
     },
     "execution_count": 26,
     "metadata": {},
     "output_type": "execute_result"
    }
   ],
   "source": [
    "data = pd.read_csv('5_d.csv')\n",
    "data.head(10)"
   ]
  },
  {
   "cell_type": "code",
   "execution_count": 31,
   "metadata": {},
   "outputs": [
    {
     "data": {
      "text/plain": [
       "177.16569974554707"
      ]
     },
     "execution_count": 31,
     "metadata": {},
     "output_type": "execute_result"
    }
   ],
   "source": [
    "#1.Mean Square error\n",
    "\n",
    "total_rows = data.shape[0]\n",
    "square_error = 0\n",
    "for index,row in data.iterrows():\n",
    "    \n",
    "    square_error += ((row['y']-row['pred'])**2)\n",
    "\n",
    "mean_square_error = square_error/total_rows\n",
    "\n",
    "print('Mean Square Error : ',mean_square_error)"
   ]
  },
  {
   "cell_type": "code",
   "execution_count": 44,
   "metadata": {},
   "outputs": [
    {
     "data": {
      "text/plain": [
       "2029771.1065826276"
      ]
     },
     "execution_count": 44,
     "metadata": {},
     "output_type": "execute_result"
    }
   ],
   "source": [
    "#2.Mean Absolute Percentage Error (MAPE)\n",
    "#To overcome singularity problem i.e divide by zero erro in MAPE , we replace few values check video\n",
    "\n",
    "total_rows = data.shape[0]\n",
    "y = data['y']\n",
    "y_mean = data.loc[:,\"y\"].mean() \n",
    "mape = 0\n",
    "\n",
    "for index,row in data.iterrows():\n",
    "\n",
    "    mape += ((abs(row['pred']-row['y'])/y_mean)*100)\n",
    "\n",
    "\n",
    "#mape = abs_sum / y_mean\n",
    "print('Mean Absolute Percentage Error : ',mape)\n"
   ]
  },
  {
   "cell_type": "code",
   "execution_count": 45,
   "metadata": {},
   "outputs": [
    {
     "name": "stdout",
     "output_type": "stream",
     "text": [
      "R^2 :  0.9563582786990964\n"
     ]
    }
   ],
   "source": [
    "#R^2 Error i.e Determinant of Coefficient Error\n",
    "\n",
    "ss_total = 0\n",
    "ss_res = 0\n",
    "r_square = 0\n",
    "\n",
    "for index,row in data.iterrows():\n",
    "    \n",
    "    ss_total += (row['y']-y_mean)**2\n",
    "    ss_res += (row['y']-row['pred'])**2\n",
    "    \n",
    "\n",
    "r_square  = 1- (ss_res/ss_total)\n",
    "print('R^2 : ',r_square)"
   ]
  },
  {
   "cell_type": "code",
   "execution_count": null,
   "metadata": {},
   "outputs": [],
   "source": []
  }
 ],
 "metadata": {
  "colab": {
   "collapsed_sections": [],
   "name": "5_Performance_metrics_Instructions.ipynb",
   "provenance": [],
   "version": "0.3.2"
  },
  "kernelspec": {
   "display_name": "Python 3",
   "language": "python",
   "name": "python3"
  },
  "language_info": {
   "codemirror_mode": {
    "name": "ipython",
    "version": 3
   },
   "file_extension": ".py",
   "mimetype": "text/x-python",
   "name": "python",
   "nbconvert_exporter": "python",
   "pygments_lexer": "ipython3",
   "version": "3.6.5"
  }
 },
 "nbformat": 4,
 "nbformat_minor": 1
}
